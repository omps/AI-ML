{
 "cells": [
  {
   "cell_type": "code",
   "execution_count": 215,
   "metadata": {},
   "outputs": [],
   "source": [
    "import numpy as np\n",
    "from sklearn.linear_model import LinearRegression\n",
    "from sklearn.linear_model import Lasso\n",
    "from sklearn.linear_model import Ridge\n",
    "from sklearn.linear_model import ElasticNet\n",
    "from sklearn.preprocessing import PolynomialFeatures"
   ]
  },
  {
   "cell_type": "code",
   "execution_count": 264,
   "metadata": {},
   "outputs": [],
   "source": [
    "import matplotlib.pyplot as plt\n",
    "%matplotlib inline"
   ]
  },
  {
   "cell_type": "code",
   "execution_count": 265,
   "metadata": {},
   "outputs": [],
   "source": [
    "np.random.seed(100)  # set the seed for generating the random nos"
   ]
  },
  {
   "cell_type": "code",
   "execution_count": 266,
   "metadata": {},
   "outputs": [],
   "source": [
    "x = np.linspace(1,2*np.pi,20)\n",
    "y = np.cos(x)*np.log(x)+ 0.3*np.random.randn(20) # add normal-dist noise\n"
   ]
  },
  {
   "cell_type": "code",
   "execution_count": 267,
   "metadata": {},
   "outputs": [
    {
     "data": {
      "text/plain": [
       "(20,)"
      ]
     },
     "execution_count": 267,
     "metadata": {},
     "output_type": "execute_result"
    }
   ],
   "source": [
    "y.shape"
   ]
  },
  {
   "cell_type": "code",
   "execution_count": 268,
   "metadata": {},
   "outputs": [
    {
     "data": {
      "text/plain": [
       "<matplotlib.legend.Legend at 0xe639da0>"
      ]
     },
     "execution_count": 268,
     "metadata": {},
     "output_type": "execute_result"
    },
    {
     "data": {
      "image/png": "[encoded data removed]",
      "text/plain": [
       "<Figure size 432x288 with 1 Axes>"
      ]
     },
     "metadata": {
      "needs_background": "light"
     },
     "output_type": "display_data"
    }
   ],
   "source": [
    "plt.plot(x,y,'o')\n",
    "plt.plot(x,np.cos(x)*np.log(x),'r-')\n",
    "plt.legend(['Actual Data', 'True Function'])"
   ]
  },
  {
   "cell_type": "code",
   "execution_count": 269,
   "metadata": {},
   "outputs": [
    {
     "data": {
      "text/plain": [
       "(20, 1)"
      ]
     },
     "execution_count": 269,
     "metadata": {},
     "output_type": "execute_result"
    }
   ],
   "source": [
    "x = x.reshape(-1,1)\n",
    "x.shape"
   ]
  },
  {
   "cell_type": "code",
   "execution_count": 270,
   "metadata": {},
   "outputs": [],
   "source": [
    "from sklearn.pipeline import Pipeline"
   ]
  },
  {
   "cell_type": "code",
   "execution_count": 271,
   "metadata": {},
   "outputs": [
    {
     "data": {
      "text/plain": [
       "[('Poly1', Pipeline(memory=None,\n",
       "           steps=[('Linear-Feat',\n",
       "                   PolynomialFeatures(degree=1, include_bias=True,\n",
       "                                      interaction_only=False, order='C')),\n",
       "                  ('LR',\n",
       "                   LinearRegression(copy_X=True, fit_intercept=True, n_jobs=None,\n",
       "                                    normalize=False))],\n",
       "           verbose=False)), ('Poly2', Pipeline(memory=None,\n",
       "           steps=[('Poly2-Feat',\n",
       "                   PolynomialFeatures(degree=2, include_bias=True,\n",
       "                                      interaction_only=False, order='C')),\n",
       "                  ('PR-2',\n",
       "                   LinearRegression(copy_X=True, fit_intercept=True, n_jobs=None,\n",
       "                                    normalize=False))],\n",
       "           verbose=False)), ('Poly3', Pipeline(memory=None,\n",
       "           steps=[('Poly3-Feat',\n",
       "                   PolynomialFeatures(degree=3, include_bias=True,\n",
       "                                      interaction_only=False, order='C')),\n",
       "                  ('PR-3',\n",
       "                   LinearRegression(copy_X=True, fit_intercept=True, n_jobs=None,\n",
       "                                    normalize=False))],\n",
       "           verbose=False)), ('Poly4', Pipeline(memory=None,\n",
       "           steps=[('Poly4-Feat',\n",
       "                   PolynomialFeatures(degree=4, include_bias=True,\n",
       "                                      interaction_only=False, order='C')),\n",
       "                  ('PR-4',\n",
       "                   LinearRegression(copy_X=True, fit_intercept=True, n_jobs=None,\n",
       "                                    normalize=False))],\n",
       "           verbose=False)), ('Poly6', Pipeline(memory=None,\n",
       "           steps=[('Poly6-Feat',\n",
       "                   PolynomialFeatures(degree=6, include_bias=True,\n",
       "                                      interaction_only=False, order='C')),\n",
       "                  ('PR-6',\n",
       "                   LinearRegression(copy_X=True, fit_intercept=True, n_jobs=None,\n",
       "                                    normalize=False))],\n",
       "           verbose=False)), ('Poly10', Pipeline(memory=None,\n",
       "           steps=[('Poly10-Feat',\n",
       "                   PolynomialFeatures(degree=10, include_bias=True,\n",
       "                                      interaction_only=False, order='C')),\n",
       "                  ('PR-10',\n",
       "                   LinearRegression(copy_X=True, fit_intercept=True, n_jobs=None,\n",
       "                                    normalize=False))],\n",
       "           verbose=False)), ('Poly15', Pipeline(memory=None,\n",
       "           steps=[('Poly15-Feat',\n",
       "                   PolynomialFeatures(degree=15, include_bias=True,\n",
       "                                      interaction_only=False, order='C')),\n",
       "                  ('PR-15',\n",
       "                   LinearRegression(copy_X=True, fit_intercept=True, n_jobs=None,\n",
       "                                    normalize=False))],\n",
       "           verbose=False)), ('Poly20', Pipeline(memory=None,\n",
       "           steps=[('Poly20-Feat',\n",
       "                   PolynomialFeatures(degree=20, include_bias=True,\n",
       "                                      interaction_only=False, order='C')),\n",
       "                  ('PR-20',\n",
       "                   LinearRegression(copy_X=True, fit_intercept=True, n_jobs=None,\n",
       "                                    normalize=False))],\n",
       "           verbose=False))]"
      ]
     },
     "execution_count": 271,
     "metadata": {},
     "output_type": "execute_result"
    }
   ],
   "source": [
    "pipelines = []\n",
    "pipelines.append(('Poly1', Pipeline([('Linear-Feat', PolynomialFeatures(1)),('LR', LinearRegression())])))\n",
    "pipelines.append(('Poly2', Pipeline([('Poly2-Feat', PolynomialFeatures(2)),('PR-2', LinearRegression())])))\n",
    "pipelines.append(('Poly3', Pipeline([('Poly3-Feat', PolynomialFeatures(3)),('PR-3', LinearRegression())])))\n",
    "pipelines.append(('Poly4', Pipeline([('Poly4-Feat', PolynomialFeatures(4)),('PR-4', LinearRegression())])))\n",
    "pipelines.append(('Poly6', Pipeline([('Poly6-Feat', PolynomialFeatures(6)),('PR-6', LinearRegression())])))\n",
    "pipelines.append(('Poly10', Pipeline([('Poly10-Feat', PolynomialFeatures(10)),('PR-10', LinearRegression())])))\n",
    "pipelines.append(('Poly15', Pipeline([('Poly15-Feat', PolynomialFeatures(15)),('PR-15', LinearRegression())])))\n",
    "pipelines.append(('Poly20', Pipeline([('Poly20-Feat', PolynomialFeatures(20)),('PR-20', LinearRegression())])))\n",
    "pipelines"
   ]
  },
  {
   "cell_type": "code",
   "execution_count": 272,
   "metadata": {},
   "outputs": [],
   "source": [
    "from sklearn.model_selection import KFold\n",
    "from sklearn.model_selection import cross_val_score\n",
    "from sklearn.model_selection import LeaveOneOut\n",
    "import pandas as pd"
   ]
  },
  {
   "cell_type": "code",
   "execution_count": 273,
   "metadata": {},
   "outputs": [
    {
     "name": "stdout",
     "output_type": "stream",
     "text": [
      "Poly1: -1.383855 (3.022802)\n",
      "Poly2: -0.311743 (2.192417)\n",
      "Poly3: -1.171216 (4.116924)\n",
      "Poly4: 0.693208 (0.351137)\n",
      "Poly6: 0.759271 (0.258447)\n",
      "Poly10: -29.895721 (48.898178)\n",
      "Poly15: -361.521500 (852.193355)\n",
      "Poly20: -718.813749 (1646.265661)\n"
     ]
    },
    {
     "data": {
      "text/plain": [
       "[<matplotlib.lines.Line2D at 0xe6b1b38>,\n",
       " <matplotlib.lines.Line2D at 0xe6b1c88>,\n",
       " <matplotlib.lines.Line2D at 0xe6b1dd8>,\n",
       " <matplotlib.lines.Line2D at 0xe6b1f28>,\n",
       " <matplotlib.lines.Line2D at 0xe6bd0b8>,\n",
       " <matplotlib.lines.Line2D at 0xe6bd208>,\n",
       " <matplotlib.lines.Line2D at 0xe6bd358>]"
      ]
     },
     "execution_count": 273,
     "metadata": {},
     "output_type": "execute_result"
    },
    {
     "data": {
      "image/png": "[encoded data removed]",
      "text/plain": [
       "<Figure size 432x288 with 1 Axes>"
      ]
     },
     "metadata": {
      "needs_background": "light"
     },
     "output_type": "display_data"
    }
   ],
   "source": [
    "scoring = 'r2' #'neg_mean_squared_error'\n",
    "results = []\n",
    "names = []\n",
    "for name, model in pipelines:\n",
    "    kfold = KFold(n_splits=7, shuffle=True, random_state=5)\n",
    "    cv_results = cross_val_score(model, x, y, cv=kfold, scoring=scoring)\n",
    "    results.append(cv_results)\n",
    "    names.append(name)\n",
    "    msg = \"%s: %f (%f)\" % (name, cv_results.mean(), cv_results.std())\n",
    "    print(msg)\n",
    "\n",
    "plt.plot(results[:-1])"
   ]
  },
  {
   "cell_type": "code",
   "execution_count": 274,
   "metadata": {},
   "outputs": [
    {
     "data": {
      "text/plain": [
       "7"
      ]
     },
     "execution_count": 274,
     "metadata": {},
     "output_type": "execute_result"
    }
   ],
   "source": [
    "len(results[1])"
   ]
  },
  {
   "cell_type": "code",
   "execution_count": null,
   "metadata": {},
   "outputs": [],
   "source": []
  },
  {
   "cell_type": "code",
   "execution_count": 275,
   "metadata": {},
   "outputs": [],
   "source": [
    "n_splits=7\n",
    "pd.set_option('precision',3) # to set the 3-digits for display"
   ]
  },
  {
   "cell_type": "code",
   "execution_count": 276,
   "metadata": {},
   "outputs": [
    {
     "data": {
      "text/html": [
       "<div>\n",
       "<style scoped>\n",
       "    .dataframe tbody tr th:only-of-type {\n",
       "        vertical-align: middle;\n",
       "    }\n",
       "\n",
       "    .dataframe tbody tr th {\n",
       "        vertical-align: top;\n",
       "    }\n",
       "\n",
       "    .dataframe thead th {\n",
       "        text-align: right;\n",
       "    }\n",
       "</style>\n",
       "<table border=\"1\" class=\"dataframe\">\n",
       "  <thead>\n",
       "    <tr style=\"text-align: right;\">\n",
       "      <th></th>\n",
       "      <th>CV1</th>\n",
       "      <th>CV2</th>\n",
       "      <th>CV3</th>\n",
       "      <th>CV4</th>\n",
       "      <th>CV5</th>\n",
       "      <th>CV6</th>\n",
       "      <th>CV7</th>\n",
       "      <th>CV Mean</th>\n",
       "      <th>CV Std Dev</th>\n",
       "    </tr>\n",
       "  </thead>\n",
       "  <tbody>\n",
       "    <tr>\n",
       "      <td>Poly1</td>\n",
       "      <td>-0.174</td>\n",
       "      <td>0.002</td>\n",
       "      <td>-2.327</td>\n",
       "      <td>0.483</td>\n",
       "      <td>-8.435</td>\n",
       "      <td>0.735</td>\n",
       "      <td>0.030</td>\n",
       "      <td>-1.384</td>\n",
       "      <td>3.265</td>\n",
       "    </tr>\n",
       "    <tr>\n",
       "      <td>Poly2</td>\n",
       "      <td>0.540</td>\n",
       "      <td>0.546</td>\n",
       "      <td>0.548</td>\n",
       "      <td>0.869</td>\n",
       "      <td>-5.645</td>\n",
       "      <td>0.903</td>\n",
       "      <td>0.056</td>\n",
       "      <td>-0.312</td>\n",
       "      <td>2.368</td>\n",
       "    </tr>\n",
       "    <tr>\n",
       "      <td>Poly3</td>\n",
       "      <td>0.527</td>\n",
       "      <td>0.180</td>\n",
       "      <td>0.547</td>\n",
       "      <td>0.868</td>\n",
       "      <td>-11.229</td>\n",
       "      <td>0.884</td>\n",
       "      <td>0.025</td>\n",
       "      <td>-1.171</td>\n",
       "      <td>4.447</td>\n",
       "    </tr>\n",
       "    <tr>\n",
       "      <td>Poly4</td>\n",
       "      <td>0.928</td>\n",
       "      <td>0.951</td>\n",
       "      <td>0.801</td>\n",
       "      <td>0.964</td>\n",
       "      <td>-0.078</td>\n",
       "      <td>0.813</td>\n",
       "      <td>0.474</td>\n",
       "      <td>0.693</td>\n",
       "      <td>0.379</td>\n",
       "    </tr>\n",
       "    <tr>\n",
       "      <td>Poly6</td>\n",
       "      <td>0.909</td>\n",
       "      <td>0.928</td>\n",
       "      <td>0.867</td>\n",
       "      <td>0.967</td>\n",
       "      <td>0.601</td>\n",
       "      <td>0.855</td>\n",
       "      <td>0.187</td>\n",
       "      <td>0.759</td>\n",
       "      <td>0.279</td>\n",
       "    </tr>\n",
       "    <tr>\n",
       "      <td>Poly10</td>\n",
       "      <td>0.579</td>\n",
       "      <td>-89.065</td>\n",
       "      <td>0.876</td>\n",
       "      <td>0.553</td>\n",
       "      <td>-122.716</td>\n",
       "      <td>0.590</td>\n",
       "      <td>-0.087</td>\n",
       "      <td>-29.896</td>\n",
       "      <td>52.816</td>\n",
       "    </tr>\n",
       "    <tr>\n",
       "      <td>Poly15</td>\n",
       "      <td>0.831</td>\n",
       "      <td>-2447.843</td>\n",
       "      <td>0.705</td>\n",
       "      <td>-3.153</td>\n",
       "      <td>-81.080</td>\n",
       "      <td>-0.319</td>\n",
       "      <td>0.209</td>\n",
       "      <td>-361.521</td>\n",
       "      <td>920.474</td>\n",
       "    </tr>\n",
       "    <tr>\n",
       "      <td>Poly20</td>\n",
       "      <td>0.434</td>\n",
       "      <td>-4744.294</td>\n",
       "      <td>0.839</td>\n",
       "      <td>-282.559</td>\n",
       "      <td>-3.492</td>\n",
       "      <td>-2.257</td>\n",
       "      <td>-0.368</td>\n",
       "      <td>-718.814</td>\n",
       "      <td>1778.170</td>\n",
       "    </tr>\n",
       "  </tbody>\n",
       "</table>\n",
       "</div>"
      ],
      "text/plain": [
       "          CV1       CV2    CV3      CV4      CV5    CV6    CV7  CV Mean  \\\n",
       "Poly1  -0.174     0.002 -2.327    0.483   -8.435  0.735  0.030   -1.384   \n",
       "Poly2   0.540     0.546  0.548    0.869   -5.645  0.903  0.056   -0.312   \n",
       "Poly3   0.527     0.180  0.547    0.868  -11.229  0.884  0.025   -1.171   \n",
       "Poly4   0.928     0.951  0.801    0.964   -0.078  0.813  0.474    0.693   \n",
       "Poly6   0.909     0.928  0.867    0.967    0.601  0.855  0.187    0.759   \n",
       "Poly10  0.579   -89.065  0.876    0.553 -122.716  0.590 -0.087  -29.896   \n",
       "Poly15  0.831 -2447.843  0.705   -3.153  -81.080 -0.319  0.209 -361.521   \n",
       "Poly20  0.434 -4744.294  0.839 -282.559   -3.492 -2.257 -0.368 -718.814   \n",
       "\n",
       "        CV Std Dev  \n",
       "Poly1        3.265  \n",
       "Poly2        2.368  \n",
       "Poly3        4.447  \n",
       "Poly4        0.379  \n",
       "Poly6        0.279  \n",
       "Poly10      52.816  \n",
       "Poly15     920.474  \n",
       "Poly20    1778.170  "
      ]
     },
     "execution_count": 276,
     "metadata": {},
     "output_type": "execute_result"
    }
   ],
   "source": [
    "results_df = pd.DataFrame(results, index=names, \\\n",
    "                          columns='CV1 CV2 CV3 CV4 CV5 CV6 CV7'.split())\n",
    "results_df['CV Mean'] = results_df.iloc[:,0:n_splits].mean(axis=1)\n",
    "results_df['CV Std Dev'] = results_df.iloc[:,0:n_splits].std(axis=1)\n",
    "results_df"
   ]
  },
  {
   "cell_type": "code",
   "execution_count": 277,
   "metadata": {},
   "outputs": [
    {
     "data": {
      "text/html": [
       "<div>\n",
       "<style scoped>\n",
       "    .dataframe tbody tr th:only-of-type {\n",
       "        vertical-align: middle;\n",
       "    }\n",
       "\n",
       "    .dataframe tbody tr th {\n",
       "        vertical-align: top;\n",
       "    }\n",
       "\n",
       "    .dataframe thead th {\n",
       "        text-align: right;\n",
       "    }\n",
       "</style>\n",
       "<table border=\"1\" class=\"dataframe\">\n",
       "  <thead>\n",
       "    <tr style=\"text-align: right;\">\n",
       "      <th></th>\n",
       "      <th>CV1</th>\n",
       "      <th>CV2</th>\n",
       "      <th>CV3</th>\n",
       "      <th>CV4</th>\n",
       "      <th>CV5</th>\n",
       "      <th>CV6</th>\n",
       "      <th>CV7</th>\n",
       "      <th>CV Mean</th>\n",
       "      <th>CV Std Dev</th>\n",
       "    </tr>\n",
       "  </thead>\n",
       "  <tbody>\n",
       "    <tr>\n",
       "      <td>Poly6</td>\n",
       "      <td>0.909</td>\n",
       "      <td>0.928</td>\n",
       "      <td>0.867</td>\n",
       "      <td>0.967</td>\n",
       "      <td>0.601</td>\n",
       "      <td>0.855</td>\n",
       "      <td>0.187</td>\n",
       "      <td>0.759</td>\n",
       "      <td>0.279</td>\n",
       "    </tr>\n",
       "    <tr>\n",
       "      <td>Poly4</td>\n",
       "      <td>0.928</td>\n",
       "      <td>0.951</td>\n",
       "      <td>0.801</td>\n",
       "      <td>0.964</td>\n",
       "      <td>-0.078</td>\n",
       "      <td>0.813</td>\n",
       "      <td>0.474</td>\n",
       "      <td>0.693</td>\n",
       "      <td>0.379</td>\n",
       "    </tr>\n",
       "    <tr>\n",
       "      <td>Poly2</td>\n",
       "      <td>0.540</td>\n",
       "      <td>0.546</td>\n",
       "      <td>0.548</td>\n",
       "      <td>0.869</td>\n",
       "      <td>-5.645</td>\n",
       "      <td>0.903</td>\n",
       "      <td>0.056</td>\n",
       "      <td>-0.312</td>\n",
       "      <td>2.368</td>\n",
       "    </tr>\n",
       "    <tr>\n",
       "      <td>Poly3</td>\n",
       "      <td>0.527</td>\n",
       "      <td>0.180</td>\n",
       "      <td>0.547</td>\n",
       "      <td>0.868</td>\n",
       "      <td>-11.229</td>\n",
       "      <td>0.884</td>\n",
       "      <td>0.025</td>\n",
       "      <td>-1.171</td>\n",
       "      <td>4.447</td>\n",
       "    </tr>\n",
       "    <tr>\n",
       "      <td>Poly1</td>\n",
       "      <td>-0.174</td>\n",
       "      <td>0.002</td>\n",
       "      <td>-2.327</td>\n",
       "      <td>0.483</td>\n",
       "      <td>-8.435</td>\n",
       "      <td>0.735</td>\n",
       "      <td>0.030</td>\n",
       "      <td>-1.384</td>\n",
       "      <td>3.265</td>\n",
       "    </tr>\n",
       "    <tr>\n",
       "      <td>Poly10</td>\n",
       "      <td>0.579</td>\n",
       "      <td>-89.065</td>\n",
       "      <td>0.876</td>\n",
       "      <td>0.553</td>\n",
       "      <td>-122.716</td>\n",
       "      <td>0.590</td>\n",
       "      <td>-0.087</td>\n",
       "      <td>-29.896</td>\n",
       "      <td>52.816</td>\n",
       "    </tr>\n",
       "    <tr>\n",
       "      <td>Poly15</td>\n",
       "      <td>0.831</td>\n",
       "      <td>-2447.843</td>\n",
       "      <td>0.705</td>\n",
       "      <td>-3.153</td>\n",
       "      <td>-81.080</td>\n",
       "      <td>-0.319</td>\n",
       "      <td>0.209</td>\n",
       "      <td>-361.521</td>\n",
       "      <td>920.474</td>\n",
       "    </tr>\n",
       "    <tr>\n",
       "      <td>Poly20</td>\n",
       "      <td>0.434</td>\n",
       "      <td>-4744.294</td>\n",
       "      <td>0.839</td>\n",
       "      <td>-282.559</td>\n",
       "      <td>-3.492</td>\n",
       "      <td>-2.257</td>\n",
       "      <td>-0.368</td>\n",
       "      <td>-718.814</td>\n",
       "      <td>1778.170</td>\n",
       "    </tr>\n",
       "  </tbody>\n",
       "</table>\n",
       "</div>"
      ],
      "text/plain": [
       "          CV1       CV2    CV3      CV4      CV5    CV6    CV7  CV Mean  \\\n",
       "Poly6   0.909     0.928  0.867    0.967    0.601  0.855  0.187    0.759   \n",
       "Poly4   0.928     0.951  0.801    0.964   -0.078  0.813  0.474    0.693   \n",
       "Poly2   0.540     0.546  0.548    0.869   -5.645  0.903  0.056   -0.312   \n",
       "Poly3   0.527     0.180  0.547    0.868  -11.229  0.884  0.025   -1.171   \n",
       "Poly1  -0.174     0.002 -2.327    0.483   -8.435  0.735  0.030   -1.384   \n",
       "Poly10  0.579   -89.065  0.876    0.553 -122.716  0.590 -0.087  -29.896   \n",
       "Poly15  0.831 -2447.843  0.705   -3.153  -81.080 -0.319  0.209 -361.521   \n",
       "Poly20  0.434 -4744.294  0.839 -282.559   -3.492 -2.257 -0.368 -718.814   \n",
       "\n",
       "        CV Std Dev  \n",
       "Poly6        0.279  \n",
       "Poly4        0.379  \n",
       "Poly2        2.368  \n",
       "Poly3        4.447  \n",
       "Poly1        3.265  \n",
       "Poly10      52.816  \n",
       "Poly15     920.474  \n",
       "Poly20    1778.170  "
      ]
     },
     "execution_count": 277,
     "metadata": {},
     "output_type": "execute_result"
    }
   ],
   "source": [
    "results_df.sort_values(by='CV Mean', ascending=False)"
   ]
  },
  {
   "cell_type": "code",
   "execution_count": 278,
   "metadata": {},
   "outputs": [],
   "source": [
    "from sklearn.model_selection import train_test_split\n",
    "X_train, X_test, y_train, y_test = train_test_split(x,y, \\\n",
    "                                                    test_size=0.3, \n",
    "                                                    random_state=200)"
   ]
  },
  {
   "cell_type": "code",
   "execution_count": 279,
   "metadata": {},
   "outputs": [
    {
     "name": "stdout",
     "output_type": "stream",
     "text": [
      "Poly1: -0.187700\n",
      "Poly2: 0.529794\n",
      "Poly3: 0.236742\n",
      "Poly4: 0.900760\n",
      "Poly6: 0.629917\n",
      "Poly10: -130.742368\n",
      "Poly15: -1281.184193\n",
      "Poly20: -1355.852132\n"
     ]
    }
   ],
   "source": [
    "scoring = 'neg_mean_squared_error'\n",
    "results = []\n",
    "names = []\n",
    "for name, model in pipelines:\n",
    "    model.fit(X_train,y_train)\n",
    "    result = model.score(X_test,y_test)\n",
    "    results.append(result)\n",
    "    names.append(name)\n",
    "    msg = \"%s: %f\" % (name, result)\n",
    "    print(msg)"
   ]
  },
  {
   "cell_type": "code",
   "execution_count": 280,
   "metadata": {},
   "outputs": [
    {
     "data": {
      "text/plain": [
       "-0.18769988548872574"
      ]
     },
     "execution_count": 280,
     "metadata": {},
     "output_type": "execute_result"
    }
   ],
   "source": [
    "LR = LinearRegression()\n",
    "LR.fit(X_train,y_train)\n",
    "LR.score(X_test,y_test)  # directly r^2 is obtained"
   ]
  },
  {
   "cell_type": "code",
   "execution_count": 281,
   "metadata": {},
   "outputs": [
    {
     "data": {
      "text/plain": [
       "<matplotlib.legend.Legend at 0xe731160>"
      ]
     },
     "execution_count": 281,
     "metadata": {},
     "output_type": "execute_result"
    },
    {
     "data": {
      "image/png": "[encoded data removed]",
      "text/plain": [
       "<Figure size 432x288 with 1 Axes>"
      ]
     },
     "metadata": {
      "needs_background": "light"
     },
     "output_type": "display_data"
    }
   ],
   "source": [
    "plt.plot(X_train,y_train,'bs')\n",
    "plt.plot(X_test,y_test,'ro')\n",
    "plt.plot(x,Poly_model.predict(X_poly),'g-*')\n",
    "plt.legend(['Train','Test Data', 'Poly4'])"
   ]
  },
  {
   "cell_type": "code",
   "execution_count": 282,
   "metadata": {},
   "outputs": [
    {
     "data": {
      "text/plain": [
       "0.9672120669725115"
      ]
     },
     "execution_count": 282,
     "metadata": {},
     "output_type": "execute_result"
    }
   ],
   "source": [
    "PR = PolynomialFeatures(4)\n",
    "X_poly = PR.fit_transform(x)\n",
    "Poly_model = LinearRegression()\n",
    "Poly_model.fit(X_poly,y)\n",
    "Poly_model.score(X_poly,y)"
   ]
  },
  {
   "cell_type": "code",
   "execution_count": null,
   "metadata": {},
   "outputs": [],
   "source": []
  },
  {
   "cell_type": "code",
   "execution_count": 283,
   "metadata": {},
   "outputs": [
    {
     "name": "stdout",
     "output_type": "stream",
     "text": [
      "1 0.34216765764070023\n",
      "2 0.8115472551460757\n",
      "3 0.8115617723635579\n",
      "4 0.9672120669725115\n",
      "5 0.9714185387877345\n",
      "6 0.9722106719988964\n",
      "7 0.9723247502390968\n",
      "8 0.9736625626661793\n",
      "9 0.9745914788492527\n",
      "10 0.9746274222785807\n",
      "11 0.976336745646532\n",
      "12 0.9913756927215576\n",
      "13 0.989590439991882\n",
      "14 0.9877650661821685\n",
      "15 0.9869540557512955\n",
      "16 0.987374454880039\n",
      "17 0.988022443435262\n",
      "18 0.9873216326384117\n",
      "19 0.9747658151885134\n",
      "20 0.9724972925104612\n",
      "21 0.9666489996885684\n",
      "22 0.9652800597274364\n",
      "23 0.9650165029082213\n",
      "24 0.9599199081718108\n",
      "25 0.9527068537464738\n",
      "26 0.9431017853865736\n",
      "27 0.9319993191425354\n",
      "28 0.9202494634488008\n",
      "29 0.8619690781517769\n"
     ]
    }
   ],
   "source": [
    "\n",
    "for i in range(1,30):  # iterate up ploy29\n",
    "    PR = PolynomialFeatures(i)\n",
    "    X_poly = PR.fit_transform(x)\n",
    "    Poly_model = LinearRegression(fit_intercept=True)\n",
    "    Poly_model.fit(X_poly,y)\n",
    "    print(i, Poly_model.score(X_poly,y))\n",
    "    "
   ]
  },
  {
   "cell_type": "code",
   "execution_count": 284,
   "metadata": {},
   "outputs": [
    {
     "data": {
      "text/plain": [
       "array([nan, nan, nan, nan, nan, nan, nan, nan, nan, nan])"
      ]
     },
     "execution_count": 284,
     "metadata": {},
     "output_type": "execute_result"
    }
   ],
   "source": [
    "a = np.arange(0,10)\n",
    "a = a*np.nan\n",
    "a"
   ]
  },
  {
   "cell_type": "code",
   "execution_count": 304,
   "metadata": {},
   "outputs": [
    {
     "data": {
      "text/plain": [
       "<matplotlib.legend.Legend at 0xe4c86d8>"
      ]
     },
     "execution_count": 304,
     "metadata": {},
     "output_type": "execute_result"
    },
    {
     "data": {
      "image/png": "[encoded data removed]",
      "text/plain": [
       "<Figure size 576x576 with 1 Axes>"
      ]
     },
     "metadata": {
      "needs_background": "light"
     },
     "output_type": "display_data"
    }
   ],
   "source": [
    "overall_acc = []\n",
    "test_acc = []\n",
    "colors = ['r','g','b','c','m']\n",
    "plt.figure(figsize=(8,8))\n",
    "plt.plot(x,y,'ro', label='data')\n",
    "\n",
    "t = np.linspace(1,2*np.pi,100).reshape(-1,1)\n",
    "plt.plot(t,np.cos(t)*np.log(t),'k--', lw=4, label='True')\n",
    "model_coef = []\n",
    "for i in range(1,20):\n",
    "    PR = PolynomialFeatures(i)\n",
    "    X_poly = PR.fit_transform(x)\n",
    "    Poly_model = LinearRegression(fit_intercept=True)\n",
    "    Poly_model.fit(X_poly,y)\n",
    "    overall_acc.append(Poly_model.score(X_poly,y))\n",
    "    \n",
    "    x_train, x_test, y_train, y_test = train_test_split(X_poly,y, \\\n",
    "                                                    test_size=0.3, \n",
    "                                                    random_state=200)\n",
    "    test_acc.append(Poly_model.score(x_test,y_test))\n",
    "#     print(i, Poly_model.score(X_poly,y), Poly_model.score(x_test,y_test) )\n",
    "    \n",
    "#     print(i, Poly_model.coef_)\n",
    "#     print('')\n",
    "    model_coef.append(Poly_model.coef_)\n",
    "    if i%4==0:  #plot only for poly3,6,9,12...\n",
    "        plt.plot(t,Poly_model.predict(PR.fit_transform(t)), label=i) #, color=colors[i%5])\n",
    "\n",
    "plt.legend()"
   ]
  },
  {
   "cell_type": "code",
   "execution_count": 305,
   "metadata": {},
   "outputs": [
    {
     "data": {
      "text/plain": [
       "array([ 0.00000000e+00,  2.71434595e-02,  5.29582519e-02,  7.74439722e-02,\n",
       "        8.84218297e-02,  7.39587719e-02,  2.90328488e-02, -3.03157452e-02,\n",
       "       -6.08747791e-02, -2.29727640e-02,  4.64506455e-02,  2.76546964e-02,\n",
       "       -5.78561123e-02,  3.57962721e-02, -1.23584615e-02,  2.69299845e-03,\n",
       "       -3.80963564e-04,  3.41386347e-05, -1.76846604e-06,  4.04685447e-08])"
      ]
     },
     "execution_count": 305,
     "metadata": {},
     "output_type": "execute_result"
    }
   ],
   "source": [
    "model_coef[-1]"
   ]
  },
  {
   "cell_type": "code",
   "execution_count": 286,
   "metadata": {},
   "outputs": [
    {
     "data": {
      "text/plain": [
       "LinearRegression(copy_X=True, fit_intercept=True, n_jobs=None, normalize=False)"
      ]
     },
     "execution_count": 286,
     "metadata": {},
     "output_type": "execute_result"
    }
   ],
   "source": [
    "lr = LinearRegression(fit_intercept=True)\n",
    "lr.fit(x,y)\n"
   ]
  },
  {
   "cell_type": "code",
   "execution_count": 287,
   "metadata": {},
   "outputs": [
    {
     "data": {
      "text/plain": [
       "array([0.34727849])"
      ]
     },
     "execution_count": 287,
     "metadata": {},
     "output_type": "execute_result"
    }
   ],
   "source": [
    "lr.coef_"
   ]
  },
  {
   "cell_type": "code",
   "execution_count": 288,
   "metadata": {},
   "outputs": [
    {
     "data": {
      "text/plain": [
       "-1.3051273059789497"
      ]
     },
     "execution_count": 288,
     "metadata": {},
     "output_type": "execute_result"
    }
   ],
   "source": [
    "lr.intercept_"
   ]
  },
  {
   "cell_type": "code",
   "execution_count": 303,
   "metadata": {},
   "outputs": [
    {
     "name": "stderr",
     "output_type": "stream",
     "text": [
      "C:\\Users\\dell\\Anaconda3\\lib\\site-packages\\sklearn\\linear_model\\coordinate_descent.py:475: ConvergenceWarning: Objective did not converge. You might want to increase the number of iterations. Duality gap: 0.02089046755357815, tolerance: 0.001812270127505153\n",
      "  positive)\n",
      "C:\\Users\\dell\\Anaconda3\\lib\\site-packages\\sklearn\\linear_model\\coordinate_descent.py:475: ConvergenceWarning: Objective did not converge. You might want to increase the number of iterations. Duality gap: 1.6082407763635695, tolerance: 0.001812270127505153\n",
      "  positive)\n",
      "C:\\Users\\dell\\Anaconda3\\lib\\site-packages\\sklearn\\linear_model\\coordinate_descent.py:475: ConvergenceWarning: Objective did not converge. You might want to increase the number of iterations. Duality gap: 1.4359002053438554, tolerance: 0.001812270127505153\n",
      "  positive)\n",
      "C:\\Users\\dell\\Anaconda3\\lib\\site-packages\\sklearn\\linear_model\\coordinate_descent.py:475: ConvergenceWarning: Objective did not converge. You might want to increase the number of iterations. Duality gap: 1.1684910121001986, tolerance: 0.001812270127505153\n",
      "  positive)\n",
      "C:\\Users\\dell\\Anaconda3\\lib\\site-packages\\sklearn\\linear_model\\coordinate_descent.py:475: ConvergenceWarning: Objective did not converge. You might want to increase the number of iterations. Duality gap: 1.0325804238952978, tolerance: 0.001812270127505153\n",
      "  positive)\n",
      "C:\\Users\\dell\\Anaconda3\\lib\\site-packages\\sklearn\\linear_model\\coordinate_descent.py:475: ConvergenceWarning: Objective did not converge. You might want to increase the number of iterations. Duality gap: 0.9447350415278007, tolerance: 0.001812270127505153\n",
      "  positive)\n",
      "C:\\Users\\dell\\Anaconda3\\lib\\site-packages\\sklearn\\linear_model\\coordinate_descent.py:475: ConvergenceWarning: Objective did not converge. You might want to increase the number of iterations. Duality gap: 0.8964390705044821, tolerance: 0.001812270127505153\n",
      "  positive)\n",
      "C:\\Users\\dell\\Anaconda3\\lib\\site-packages\\sklearn\\linear_model\\coordinate_descent.py:475: ConvergenceWarning: Objective did not converge. You might want to increase the number of iterations. Duality gap: 0.8771675999104096, tolerance: 0.001812270127505153\n",
      "  positive)\n",
      "C:\\Users\\dell\\Anaconda3\\lib\\site-packages\\sklearn\\linear_model\\coordinate_descent.py:475: ConvergenceWarning: Objective did not converge. You might want to increase the number of iterations. Duality gap: 0.8743383997279425, tolerance: 0.001812270127505153\n",
      "  positive)\n",
      "C:\\Users\\dell\\Anaconda3\\lib\\site-packages\\sklearn\\linear_model\\coordinate_descent.py:475: ConvergenceWarning: Objective did not converge. You might want to increase the number of iterations. Duality gap: 0.8773038420569265, tolerance: 0.001812270127505153\n",
      "  positive)\n",
      "C:\\Users\\dell\\Anaconda3\\lib\\site-packages\\sklearn\\linear_model\\coordinate_descent.py:475: ConvergenceWarning: Objective did not converge. You might want to increase the number of iterations. Duality gap: 0.8809804823172926, tolerance: 0.001812270127505153\n",
      "  positive)\n",
      "C:\\Users\\dell\\Anaconda3\\lib\\site-packages\\sklearn\\linear_model\\coordinate_descent.py:475: ConvergenceWarning: Objective did not converge. You might want to increase the number of iterations. Duality gap: 0.8832861477686326, tolerance: 0.001812270127505153\n",
      "  positive)\n",
      "C:\\Users\\dell\\Anaconda3\\lib\\site-packages\\sklearn\\linear_model\\coordinate_descent.py:475: ConvergenceWarning: Objective did not converge. You might want to increase the number of iterations. Duality gap: 0.8838444572829197, tolerance: 0.001812270127505153\n",
      "  positive)\n",
      "C:\\Users\\dell\\Anaconda3\\lib\\site-packages\\sklearn\\linear_model\\coordinate_descent.py:475: ConvergenceWarning: Objective did not converge. You might want to increase the number of iterations. Duality gap: 0.8829717066004951, tolerance: 0.001812270127505153\n",
      "  positive)\n",
      "C:\\Users\\dell\\Anaconda3\\lib\\site-packages\\sklearn\\linear_model\\coordinate_descent.py:475: ConvergenceWarning: Objective did not converge. You might want to increase the number of iterations. Duality gap: 0.8810488702937198, tolerance: 0.001812270127505153\n",
      "  positive)\n",
      "C:\\Users\\dell\\Anaconda3\\lib\\site-packages\\sklearn\\linear_model\\coordinate_descent.py:475: ConvergenceWarning: Objective did not converge. You might want to increase the number of iterations. Duality gap: 0.8785175541341508, tolerance: 0.001812270127505153\n",
      "  positive)\n",
      "C:\\Users\\dell\\Anaconda3\\lib\\site-packages\\sklearn\\linear_model\\coordinate_descent.py:475: ConvergenceWarning: Objective did not converge. You might want to increase the number of iterations. Duality gap: 0.8756047756802074, tolerance: 0.001812270127505153\n",
      "  positive)\n"
     ]
    },
    {
     "data": {
      "text/plain": [
       "<matplotlib.legend.Legend at 0x1573a7f0>"
      ]
     },
     "execution_count": 303,
     "metadata": {},
     "output_type": "execute_result"
    },
    {
     "data": {
      "image/png": "[encoded data removed]",
      "text/plain": [
       "<Figure size 576x576 with 1 Axes>"
      ]
     },
     "metadata": {
      "needs_background": "light"
     },
     "output_type": "display_data"
    }
   ],
   "source": [
    "overall_acc = []\n",
    "test_acc = []\n",
    "colors = ['r','g','b','c','m', 'y']\n",
    "plt.figure(figsize=(8,8))\n",
    "plt.plot(x,y,'ro', label='data')\n",
    "\n",
    "t = np.linspace(1,2*np.pi,100).reshape(-1,1)\n",
    "plt.plot(t,np.cos(t)*np.log(t),'k--', lw=4, label='True')\n",
    "\n",
    "model_coef = []\n",
    "\n",
    "for i in range(1,20):\n",
    "    PR = PolynomialFeatures(i)\n",
    "    X_poly = PR.fit_transform(x)\n",
    "    Poly_model = ElasticNet(l1_ratio=0.2, alpha=0.05, fit_intercept=True)\n",
    "    Poly_model.fit(X_poly,y)\n",
    "    overall_acc.append(Poly_model.score(X_poly,y))\n",
    "    \n",
    "    x_train, x_test, y_train, y_test = train_test_split(X_poly,y, \\\n",
    "                                                    test_size=0.3, \n",
    "                                                    random_state=200)\n",
    "    test_acc.append(Poly_model.score(x_test,y_test))\n",
    "#     print(i, Poly_model.score(X_poly,y), Poly_model.score(x_test,y_test) )\n",
    "    \n",
    "#     print(i, Poly_model.coef_)\n",
    "#     print('')\n",
    "    model_coef.append(Poly_model.coef_)\n",
    "    \n",
    "    if i%4==0:  #plot only for poly3,6,9,12...\n",
    "        plt.plot(t,Poly_model.predict(PR.fit_transform(t)), label=i) #, color=colors[i%5])\n",
    "\n",
    "plt.legend()"
   ]
  },
  {
   "cell_type": "code",
   "execution_count": 306,
   "metadata": {},
   "outputs": [
    {
     "data": {
      "text/plain": [
       "array([ 0.00000000e+00,  2.71434595e-02,  5.29582519e-02,  7.74439722e-02,\n",
       "        8.84218297e-02,  7.39587719e-02,  2.90328488e-02, -3.03157452e-02,\n",
       "       -6.08747791e-02, -2.29727640e-02,  4.64506455e-02,  2.76546964e-02,\n",
       "       -5.78561123e-02,  3.57962721e-02, -1.23584615e-02,  2.69299845e-03,\n",
       "       -3.80963564e-04,  3.41386347e-05, -1.76846604e-06,  4.04685447e-08])"
      ]
     },
     "execution_count": 306,
     "metadata": {},
     "output_type": "execute_result"
    }
   ],
   "source": [
    "model_coef[-1]"
   ]
  },
  {
   "cell_type": "markdown",
   "metadata": {},
   "source": [
    "# Homework\n",
    "Plot the model coefficents for a poly16 and compare the unregularised with regularised regression\n",
    "Also compare the coeffients from diff types of regularisation"
   ]
  },
  {
   "cell_type": "code",
   "execution_count": null,
   "metadata": {},
   "outputs": [],
   "source": []
  }
 ],
 "metadata": {
  "kernelspec": {
   "display_name": "Python 3",
   "language": "python",
   "name": "python3"
  },
  "language_info": {
   "codemirror_mode": {
    "name": "ipython",
    "version": 3
   },
   "file_extension": ".py",
   "mimetype": "text/x-python",
   "name": "python",
   "nbconvert_exporter": "python",
   "pygments_lexer": "ipython3",
   "version": "3.6.9"
  }
 },
 "nbformat": 4,
 "nbformat_minor": 2
}
